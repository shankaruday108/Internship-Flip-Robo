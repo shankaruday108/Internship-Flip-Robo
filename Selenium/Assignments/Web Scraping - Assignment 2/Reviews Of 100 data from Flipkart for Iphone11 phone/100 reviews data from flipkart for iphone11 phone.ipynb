{
 "cells": [
  {
   "cell_type": "markdown",
   "id": "a29d18c8",
   "metadata": {},
   "source": [
    "Q5: Scrape 100 reviews data from flipkart.com for iphone11 phone. You have to go the link: \n",
    "https://www.flipkart.com/apple-iphone-11-black-64-gb/product\u0002reviews/itm4e5041ba101fd?pid=MOBFWQ6BXGJCEYNY&lid=LSTMOBFWQ6BXGJCEYNYZXSHRJ&market \n",
    "place=FLIPKART\n",
    "As shown in the above page you have to scrape the tick marked attributes. These are:\n",
    "1. Rating\n",
    "2. Review summary\n",
    "3. Full review\n",
    "4. You have to scrape this data for first 100reviews.\n",
    "Note: All the steps required during scraping should be done through code only and not manually."
   ]
  },
  {
   "cell_type": "code",
   "execution_count": 1,
   "id": "dc99b4a0",
   "metadata": {},
   "outputs": [],
   "source": [
    "import selenium as sm\n",
    "import pandas as pd\n",
    "from selenium import webdriver\n",
    "import warnings\n",
    "warnings.filterwarnings(\"ignore\")\n",
    "from selenium.common.exceptions import StaleElementReferenceException, NoSuchElementException\n",
    "from selenium.webdriver.common.by import By\n",
    "import time"
   ]
  },
  {
   "cell_type": "code",
   "execution_count": 2,
   "id": "6d61d238",
   "metadata": {},
   "outputs": [],
   "source": [
    "# Now connection to the driver which is available in this folder of my laptop\n",
    "driver = webdriver.Chrome(r\"D:\\Uday Shankar's Data\\Softwares\\chromedriver_win32\\chromedriver.exe\")"
   ]
  },
  {
   "cell_type": "code",
   "execution_count": 3,
   "id": "9190f15f",
   "metadata": {},
   "outputs": [],
   "source": [
    "# Now opening the naukri.com website in a new window\n",
    "driver.get(\"https://www.google.com/search?q=ttps%3A%2F%2Fwww.flipkart.com%2Fapple-iphone-11-black-64-gb%2Fproduct%02reviews%2Fitm4e5041ba101fd%3Fpid%3DMOBFWQ6BXGJCEYNY%26lid%3DLSTMOBFWQ6BXGJCEYNYZXSHRJ%26marketplace%3DFLIPKART&rlz=1C1CHBF_enIN1002IN1002&oq=ttps%3A%2F%2Fwww.flipkart.com%2Fapple-iphone-11-black-64-gb%2Fproduct%02reviews%2Fitm4e5041ba101fd%3Fpid%3DMOBFWQ6BXGJCEYNY%26lid%3DLSTMOBFWQ6BXGJCEYNYZXSHRJ%26marketplace%3DFLIPKART&aqs=chrome..69i57j69i58.847j0j4&sourceid=chrome&ie=UTF-8\")\n",
    "# driver.fullscreen_window()\n",
    "time.sleep(3)"
   ]
  },
  {
   "cell_type": "code",
   "execution_count": 4,
   "id": "fb66e191",
   "metadata": {},
   "outputs": [],
   "source": [
    "search_quotes = driver.find_element(By.XPATH, \"/html/body/div[7]/div/div[11]/div/div[2]/div[2]/div/div/div[1]/div/div/div[1]/div/a\")\n",
    "search_quotes.click()\n",
    "time.sleep(3)"
   ]
  },
  {
   "cell_type": "code",
   "execution_count": 5,
   "id": "11f01b67",
   "metadata": {},
   "outputs": [],
   "source": [
    "# Clicking on all review link\n",
    "search_review = driver.find_element(By.XPATH, \"//div[@class='_3UAT2v _16PBlm']\")\n",
    "search_review.click()\n",
    "time.sleep(3)"
   ]
  },
  {
   "cell_type": "code",
   "execution_count": 6,
   "id": "e2226c35",
   "metadata": {},
   "outputs": [
    {
     "data": {
      "text/plain": [
       "10"
      ]
     },
     "execution_count": 6,
     "metadata": {},
     "output_type": "execute_result"
    }
   ],
   "source": [
    "# Counting the data in first tab\n",
    "star_rating  = driver.find_elements(By.XPATH, \"//div[@class='_3LWZlK _1BLPMq']\")\n",
    "len(star_rating)"
   ]
  },
  {
   "cell_type": "code",
   "execution_count": 7,
   "id": "405463dc",
   "metadata": {},
   "outputs": [],
   "source": [
    "button_start = 0\n",
    "button_end   = 20\n",
    "all_ratings = []\n",
    "all_review_summeries = []\n",
    "all_full_reviews = []\n",
    "\n",
    "star_rating= \"\"\n",
    "half_review= \"\"\n",
    "full_review= \"\"\n",
    "\n",
    "time.sleep(5)\n",
    "\n",
    "for getdata in range(button_start,button_end):\n",
    "    star_rating  = driver.find_elements(By.XPATH, \"//div[@class='_3LWZlK _1BLPMq']\")\n",
    "    time.sleep(3)\n",
    "    half_review  = driver.find_elements(By.XPATH, \"//p[@class='_2-N8zT']\")\n",
    "    time.sleep(3)\n",
    "    full_review  = driver.find_elements(By.XPATH, \"//div[@class='t-ZTKy']\")\n",
    "    time.sleep(3)\n",
    "    \n",
    "    if len(star_rating) > 0:\n",
    "     \n",
    "        for a  in star_rating:\n",
    "            all_ratings.append(a.text)\n",
    "\n",
    "        for b  in half_review:\n",
    "            all_review_summeries.append(b.text)\n",
    "\n",
    "        for c  in full_review:\n",
    "            all_full_reviews.append(c.text)\n",
    "\n",
    "        time.sleep(2)\n",
    "\n",
    "        if len(all_ratings) < 100:\n",
    "            # button_end += 1\n",
    "            # next_btn = driver.find_element(By.XPATH, \"/html/body/div[1]/div/div[3]/div/div/div[2]/div[13]/div/div/nav/a[11]\")\n",
    "            next_btn = driver.find_element(By.XPATH, \"//span[normalize-space()='Next']\")\n",
    "            next_btn.click()\n",
    "            time.sleep(5)\n",
    "        else:\n",
    "            break\n",
    "    else:\n",
    "        break\n",
    "        \n",
    "time.sleep(3)        \n",
    "        "
   ]
  },
  {
   "cell_type": "code",
   "execution_count": 8,
   "id": "d1e96d67",
   "metadata": {},
   "outputs": [
    {
     "data": {
      "text/plain": [
       "108"
      ]
     },
     "execution_count": 8,
     "metadata": {},
     "output_type": "execute_result"
    }
   ],
   "source": [
    "len(all_ratings)"
   ]
  },
  {
   "cell_type": "code",
   "execution_count": 9,
   "id": "d09a6a0b",
   "metadata": {},
   "outputs": [
    {
     "data": {
      "text/plain": [
       "110"
      ]
     },
     "execution_count": 9,
     "metadata": {},
     "output_type": "execute_result"
    }
   ],
   "source": [
    "len(all_review_summeries)"
   ]
  },
  {
   "cell_type": "code",
   "execution_count": 10,
   "id": "676ec8bd",
   "metadata": {},
   "outputs": [
    {
     "data": {
      "text/plain": [
       "110"
      ]
     },
     "execution_count": 10,
     "metadata": {},
     "output_type": "execute_result"
    }
   ],
   "source": [
    "len(all_full_reviews)"
   ]
  },
  {
   "cell_type": "code",
   "execution_count": 11,
   "id": "6a85c364",
   "metadata": {},
   "outputs": [
    {
     "data": {
      "text/html": [
       "<div>\n",
       "<style scoped>\n",
       "    .dataframe tbody tr th:only-of-type {\n",
       "        vertical-align: middle;\n",
       "    }\n",
       "\n",
       "    .dataframe tbody tr th {\n",
       "        vertical-align: top;\n",
       "    }\n",
       "\n",
       "    .dataframe thead th {\n",
       "        text-align: right;\n",
       "    }\n",
       "</style>\n",
       "<table border=\"1\" class=\"dataframe\">\n",
       "  <thead>\n",
       "    <tr style=\"text-align: right;\">\n",
       "      <th></th>\n",
       "      <th>Rating</th>\n",
       "      <th>Review summary</th>\n",
       "      <th>Full review</th>\n",
       "    </tr>\n",
       "  </thead>\n",
       "  <tbody>\n",
       "    <tr>\n",
       "      <th>0</th>\n",
       "      <td>5</td>\n",
       "      <td>Simply awesome</td>\n",
       "      <td>Really satisfied with the Product I received.....</td>\n",
       "    </tr>\n",
       "    <tr>\n",
       "      <th>1</th>\n",
       "      <td>5</td>\n",
       "      <td>Perfect product!</td>\n",
       "      <td>Amazing phone with great cameras and better ba...</td>\n",
       "    </tr>\n",
       "    <tr>\n",
       "      <th>2</th>\n",
       "      <td>5</td>\n",
       "      <td>Best in the market!</td>\n",
       "      <td>Great iPhone very snappy experience as apple k...</td>\n",
       "    </tr>\n",
       "    <tr>\n",
       "      <th>3</th>\n",
       "      <td>4</td>\n",
       "      <td>Value-for-money</td>\n",
       "      <td>I'm Really happy with the product\\nDelivery wa...</td>\n",
       "    </tr>\n",
       "    <tr>\n",
       "      <th>4</th>\n",
       "      <td>5</td>\n",
       "      <td>Highly recommended</td>\n",
       "      <td>It's my first time to use iOS phone and I am l...</td>\n",
       "    </tr>\n",
       "    <tr>\n",
       "      <th>...</th>\n",
       "      <td>...</td>\n",
       "      <td>...</td>\n",
       "      <td>...</td>\n",
       "    </tr>\n",
       "    <tr>\n",
       "      <th>95</th>\n",
       "      <td>5</td>\n",
       "      <td>Awesome</td>\n",
       "      <td>Very excited to have this phone. This phone ha...</td>\n",
       "    </tr>\n",
       "    <tr>\n",
       "      <th>96</th>\n",
       "      <td>5</td>\n",
       "      <td>Excellent</td>\n",
       "      <td>A perfect phone and a good battery super camer...</td>\n",
       "    </tr>\n",
       "    <tr>\n",
       "      <th>97</th>\n",
       "      <td>5</td>\n",
       "      <td>Mind-blowing purchase</td>\n",
       "      <td>Excellent camera 📸 And Display touching very N...</td>\n",
       "    </tr>\n",
       "    <tr>\n",
       "      <th>98</th>\n",
       "      <td>5</td>\n",
       "      <td>Excellent</td>\n",
       "      <td>🤩🤩🤩🤩🤩🤩I loved the Phone.. Every time I pick up...</td>\n",
       "    </tr>\n",
       "    <tr>\n",
       "      <th>99</th>\n",
       "      <td>5</td>\n",
       "      <td>Brilliant</td>\n",
       "      <td>Excellent camera and display touching very nic...</td>\n",
       "    </tr>\n",
       "  </tbody>\n",
       "</table>\n",
       "<p>100 rows × 3 columns</p>\n",
       "</div>"
      ],
      "text/plain": [
       "   Rating        Review summary   \\\n",
       "0       5         Simply awesome   \n",
       "1       5       Perfect product!   \n",
       "2       5    Best in the market!   \n",
       "3       4        Value-for-money   \n",
       "4       5     Highly recommended   \n",
       "..    ...                    ...   \n",
       "95      5                Awesome   \n",
       "96      5              Excellent   \n",
       "97      5  Mind-blowing purchase   \n",
       "98      5              Excellent   \n",
       "99      5              Brilliant   \n",
       "\n",
       "                                          Full review  \n",
       "0   Really satisfied with the Product I received.....  \n",
       "1   Amazing phone with great cameras and better ba...  \n",
       "2   Great iPhone very snappy experience as apple k...  \n",
       "3   I'm Really happy with the product\\nDelivery wa...  \n",
       "4   It's my first time to use iOS phone and I am l...  \n",
       "..                                                ...  \n",
       "95  Very excited to have this phone. This phone ha...  \n",
       "96  A perfect phone and a good battery super camer...  \n",
       "97  Excellent camera 📸 And Display touching very N...  \n",
       "98  🤩🤩🤩🤩🤩🤩I loved the Phone.. Every time I pick up...  \n",
       "99  Excellent camera and display touching very nic...  \n",
       "\n",
       "[100 rows x 3 columns]"
      ]
     },
     "execution_count": 11,
     "metadata": {},
     "output_type": "execute_result"
    }
   ],
   "source": [
    "all_data = pd.DataFrame({'Rating':all_ratings[:100], 'Review summary ':all_review_summeries[:100], 'Full review':all_full_reviews[:100]})\n",
    "all_data"
   ]
  },
  {
   "cell_type": "code",
   "execution_count": 14,
   "id": "63c40843",
   "metadata": {},
   "outputs": [],
   "source": [
    "# By using iloc  \n",
    "#all_data = pd.DataFrame({'Rating':all_ratings, 'Review summary ':all_review_summeries, 'Full review':all_full_reviews}).iloc[:100]\n",
    "#all_data"
   ]
  },
  {
   "cell_type": "code",
   "execution_count": 15,
   "id": "7e7bfddf",
   "metadata": {},
   "outputs": [],
   "source": [
    "all_data.to_csv(\"_100_reviews_iphone_11.csv\", header=False, index=False)"
   ]
  },
  {
   "cell_type": "code",
   "execution_count": null,
   "id": "5a3e7170",
   "metadata": {},
   "outputs": [],
   "source": []
  },
  {
   "cell_type": "code",
   "execution_count": null,
   "id": "42fcdb64",
   "metadata": {},
   "outputs": [],
   "source": []
  }
 ],
 "metadata": {
  "kernelspec": {
   "display_name": "Python 3 (ipykernel)",
   "language": "python",
   "name": "python3"
  },
  "language_info": {
   "codemirror_mode": {
    "name": "ipython",
    "version": 3
   },
   "file_extension": ".py",
   "mimetype": "text/x-python",
   "name": "python",
   "nbconvert_exporter": "python",
   "pygments_lexer": "ipython3",
   "version": "3.9.12"
  }
 },
 "nbformat": 4,
 "nbformat_minor": 5
}
