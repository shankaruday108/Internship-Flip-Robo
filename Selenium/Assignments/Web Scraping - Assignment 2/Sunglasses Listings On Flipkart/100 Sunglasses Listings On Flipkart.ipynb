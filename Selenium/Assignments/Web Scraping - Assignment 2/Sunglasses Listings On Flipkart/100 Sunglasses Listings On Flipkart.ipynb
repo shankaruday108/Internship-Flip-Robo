{
 "cells": [
  {
   "cell_type": "markdown",
   "id": "e199d336",
   "metadata": {},
   "source": [
    "Q4: Scrape data of first 100 sunglasses listings on flipkart.com. You have to scrape four attributes:\n",
    "1. Brand\n",
    "2. ProductDescription\n",
    "3. Price\n",
    "The attributes which you have to scrape is ticked marked in the below image.\n",
    "To scrape the data you have to go through following steps:\n",
    "1. Go to Flipkart webpage by url :https://www.flipkart.com/\n",
    "2. Enter “sunglasses” in the search field where “search for products, brands and more” is written and \n",
    "click the search icon\n",
    "3. After that you will reach to the page having a lot of sunglasses. From this page you can scrap the \n",
    "required data asusual.\n",
    "4. After scraping data from the first page, go to the “Next” Button at the bottom other page , then\n",
    "click on it.\n",
    "5. Now scrape data from this page asusual\n",
    "6. Repeat this until you get data for 100sunglasses.\n",
    "Note: That all of the above steps have to be done by coding only and not manually"
   ]
  },
  {
   "cell_type": "code",
   "execution_count": 1,
   "id": "5206114a",
   "metadata": {},
   "outputs": [],
   "source": [
    "import selenium as sm\n",
    "import pandas as pd\n",
    "from selenium import webdriver\n",
    "import warnings\n",
    "warnings.filterwarnings(\"ignore\")\n",
    "from selenium.common.exceptions import StaleElementReferenceException, NoSuchElementException\n",
    "from selenium.webdriver.common.by import By\n",
    "import time"
   ]
  },
  {
   "cell_type": "code",
   "execution_count": 2,
   "id": "641771ac",
   "metadata": {},
   "outputs": [],
   "source": [
    "# Now connection to the driver which is available in this folder of my laptop\n",
    "driver = webdriver.Chrome(r\"D:\\Uday Shankar's Data\\Softwares\\chromedriver_win32\\chromedriver.exe\")"
   ]
  },
  {
   "cell_type": "code",
   "execution_count": 3,
   "id": "5e23ceee",
   "metadata": {},
   "outputs": [],
   "source": [
    "# Now opening the naukri.com website in a new window\n",
    "driver.get(\"https://www.flipkart.com/search?q=sunglass&otracker=search&otracker1=search&marketplace=FLIPKART&as-show=on&as=off\")\n",
    "driver.fullscreen_window()\n",
    "time.sleep(3)"
   ]
  },
  {
   "cell_type": "code",
   "execution_count": 4,
   "id": "4cc647ca",
   "metadata": {},
   "outputs": [],
   "source": [
    "#brand_search = driver.find_element(By.XPATH, \"/html/body/div/div/div[3]/div[1]/div[1]/div[2]/div[1]/div/section[5]/div[2]/div[1]/div[2]\")\n",
    "#brand_search.click()\n",
    "#time.sleep(3)"
   ]
  },
  {
   "cell_type": "code",
   "execution_count": 5,
   "id": "7e435deb",
   "metadata": {},
   "outputs": [],
   "source": [
    "button_start = 0\n",
    "button_end   = 3\n",
    "brands = []\n",
    "product_descriptions = []\n",
    "prices = []\n",
    "\n",
    "brand_name= \"\"\n",
    "des= \"\"\n",
    "pri= \"\"\n",
    "\n",
    "time.sleep(5)"
   ]
  },
  {
   "cell_type": "code",
   "execution_count": 6,
   "id": "695087fc",
   "metadata": {},
   "outputs": [
    {
     "data": {
      "text/plain": [
       "3"
      ]
     },
     "execution_count": 6,
     "metadata": {},
     "output_type": "execute_result"
    }
   ],
   "source": [
    "for getdata in range(button_start,button_end):\n",
    "    brand_name  = driver.find_elements(By.XPATH, \"//div[@class='_2WkVRV']\")\n",
    "    time.sleep(3)\n",
    "    des  = driver.find_elements(By.XPATH, \"//a[@class='IRpwTa']\")\n",
    "    time.sleep(3)\n",
    "    pri = driver.find_elements(By.XPATH, \"//div[@class='_30jeq3']\")\n",
    "    time.sleep(3)\n",
    "     \n",
    "    for br  in brand_name:\n",
    "        brands.append(br.text)\n",
    "\n",
    "    for de  in des:\n",
    "        product_descriptions.append(de.text)\n",
    "\n",
    "    for pr  in pri:\n",
    "        prices.append(pr.text)\n",
    "        \n",
    "    time.sleep(2)    \n",
    "\n",
    "    next_click = driver.find_element(By.XPATH, \"//a[@class='_1LKTO3']\")\n",
    "#     next_click = driver.find_element(By.XPATH, \"/html/body/div/div/div[3]/div[1]/div[2]/div[12]/div/div/nav/a[12]\")\n",
    "    next_click.click()\n",
    "    time.sleep(5)\n",
    "        \n",
    "time.sleep(3)        \n",
    "        \n",
    "len(brands) \n",
    "button_end"
   ]
  },
  {
   "cell_type": "code",
   "execution_count": 11,
   "id": "b0707f11",
   "metadata": {},
   "outputs": [
    {
     "data": {
      "text/plain": [
       "120"
      ]
     },
     "execution_count": 11,
     "metadata": {},
     "output_type": "execute_result"
    }
   ],
   "source": [
    "len(product_descriptions)"
   ]
  },
  {
   "cell_type": "code",
   "execution_count": 12,
   "id": "fcbcac1a",
   "metadata": {},
   "outputs": [
    {
     "data": {
      "text/plain": [
       "120"
      ]
     },
     "execution_count": 12,
     "metadata": {},
     "output_type": "execute_result"
    }
   ],
   "source": [
    "len(prices)"
   ]
  },
  {
   "cell_type": "code",
   "execution_count": 14,
   "id": "cad04990",
   "metadata": {},
   "outputs": [
    {
     "data": {
      "text/html": [
       "<div>\n",
       "<style scoped>\n",
       "    .dataframe tbody tr th:only-of-type {\n",
       "        vertical-align: middle;\n",
       "    }\n",
       "\n",
       "    .dataframe tbody tr th {\n",
       "        vertical-align: top;\n",
       "    }\n",
       "\n",
       "    .dataframe thead th {\n",
       "        text-align: right;\n",
       "    }\n",
       "</style>\n",
       "<table border=\"1\" class=\"dataframe\">\n",
       "  <thead>\n",
       "    <tr style=\"text-align: right;\">\n",
       "      <th></th>\n",
       "      <th>Brand</th>\n",
       "      <th>Product Description</th>\n",
       "      <th>Price</th>\n",
       "    </tr>\n",
       "  </thead>\n",
       "  <tbody>\n",
       "    <tr>\n",
       "      <th>0</th>\n",
       "      <td>VINCENT CHASE</td>\n",
       "      <td>Polarized, UV Protection Round Sunglasses (50)</td>\n",
       "      <td>₹829</td>\n",
       "    </tr>\n",
       "    <tr>\n",
       "      <th>1</th>\n",
       "      <td>VINCENT CHASE</td>\n",
       "      <td>by Lenskart Polarized, UV Protection Retro Squ...</td>\n",
       "      <td>₹999</td>\n",
       "    </tr>\n",
       "    <tr>\n",
       "      <th>2</th>\n",
       "      <td>Fastrack</td>\n",
       "      <td>UV Protection Rectangular Sunglasses (Free Size)</td>\n",
       "      <td>₹439</td>\n",
       "    </tr>\n",
       "    <tr>\n",
       "      <th>3</th>\n",
       "      <td>Fastrack</td>\n",
       "      <td>UV Protection Wayfarer Sunglasses (Free Size)</td>\n",
       "      <td>₹649</td>\n",
       "    </tr>\n",
       "    <tr>\n",
       "      <th>4</th>\n",
       "      <td>Fastrack</td>\n",
       "      <td>Gradient, UV Protection Wayfarer Sunglasses (F...</td>\n",
       "      <td>₹489</td>\n",
       "    </tr>\n",
       "    <tr>\n",
       "      <th>...</th>\n",
       "      <td>...</td>\n",
       "      <td>...</td>\n",
       "      <td>...</td>\n",
       "    </tr>\n",
       "    <tr>\n",
       "      <th>95</th>\n",
       "      <td>VINCENT CHASE</td>\n",
       "      <td>by Lenskart Polarized, UV Protection Aviator S...</td>\n",
       "      <td>₹929</td>\n",
       "    </tr>\n",
       "    <tr>\n",
       "      <th>96</th>\n",
       "      <td>Anemone</td>\n",
       "      <td>UV Protection, Gradient Rectangular, Spectacle...</td>\n",
       "      <td>₹356</td>\n",
       "    </tr>\n",
       "    <tr>\n",
       "      <th>97</th>\n",
       "      <td>VINCENT CHASE</td>\n",
       "      <td>by Lenskart Polarized, UV Protection Aviator S...</td>\n",
       "      <td>₹690</td>\n",
       "    </tr>\n",
       "    <tr>\n",
       "      <th>98</th>\n",
       "      <td>NuVew</td>\n",
       "      <td>UV Protection Aviator Sunglasses (57)</td>\n",
       "      <td>₹125</td>\n",
       "    </tr>\n",
       "    <tr>\n",
       "      <th>99</th>\n",
       "      <td>VINCENT CHASE</td>\n",
       "      <td>UV Protection Wayfarer Sunglasses (62)</td>\n",
       "      <td>₹899</td>\n",
       "    </tr>\n",
       "  </tbody>\n",
       "</table>\n",
       "<p>100 rows × 3 columns</p>\n",
       "</div>"
      ],
      "text/plain": [
       "            Brand                                Product Description Price\n",
       "0   VINCENT CHASE     Polarized, UV Protection Round Sunglasses (50)  ₹829\n",
       "1   VINCENT CHASE  by Lenskart Polarized, UV Protection Retro Squ...  ₹999\n",
       "2        Fastrack   UV Protection Rectangular Sunglasses (Free Size)  ₹439\n",
       "3        Fastrack      UV Protection Wayfarer Sunglasses (Free Size)  ₹649\n",
       "4        Fastrack  Gradient, UV Protection Wayfarer Sunglasses (F...  ₹489\n",
       "..            ...                                                ...   ...\n",
       "95  VINCENT CHASE  by Lenskart Polarized, UV Protection Aviator S...  ₹929\n",
       "96        Anemone  UV Protection, Gradient Rectangular, Spectacle...  ₹356\n",
       "97  VINCENT CHASE  by Lenskart Polarized, UV Protection Aviator S...  ₹690\n",
       "98          NuVew              UV Protection Aviator Sunglasses (57)  ₹125\n",
       "99  VINCENT CHASE             UV Protection Wayfarer Sunglasses (62)  ₹899\n",
       "\n",
       "[100 rows x 3 columns]"
      ]
     },
     "execution_count": 14,
     "metadata": {},
     "output_type": "execute_result"
    }
   ],
   "source": [
    "all_data = pd.DataFrame({'Brand':brands, 'Product Description':product_descriptions, 'Price':prices}).iloc[:100]\n",
    "all_data"
   ]
  },
  {
   "cell_type": "code",
   "execution_count": 15,
   "id": "54aa878c",
   "metadata": {},
   "outputs": [],
   "source": [
    "all_data.to_csv(\"100_Sunglasses_Listings_On_Flipkart.csv\", header=False, index=False)"
   ]
  },
  {
   "cell_type": "code",
   "execution_count": null,
   "id": "c306a3b0",
   "metadata": {},
   "outputs": [],
   "source": []
  }
 ],
 "metadata": {
  "kernelspec": {
   "display_name": "Python 3 (ipykernel)",
   "language": "python",
   "name": "python3"
  },
  "language_info": {
   "codemirror_mode": {
    "name": "ipython",
    "version": 3
   },
   "file_extension": ".py",
   "mimetype": "text/x-python",
   "name": "python",
   "nbconvert_exporter": "python",
   "pygments_lexer": "ipython3",
   "version": "3.9.12"
  }
 },
 "nbformat": 4,
 "nbformat_minor": 5
}
