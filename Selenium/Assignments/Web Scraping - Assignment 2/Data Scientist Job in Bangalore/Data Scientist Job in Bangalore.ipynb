{
 "cells": [
  {
   "cell_type": "markdown",
   "id": "38f75d69",
   "metadata": {},
   "source": [
    "Q2:Write a python program to scrape data for “Data Scientist” Job position in “Bangalore” location. You \n",
    "have to scrape the job-title, job-location, company_name. You have to scrape first 10 jobs data.\n",
    "This task will be done in following steps:\n",
    "1. First get the webpage https://www.naukri.com/\n",
    "2. Enter “Data Scientist” in “Skill, Designations, Companies” field and enter “Bangalore” in “enter the \n",
    "location” field.\n",
    "3. Then click the searchbutton.\n",
    "4. Then scrape the data for the first 10 jobs results youget.\n",
    "5. Finally create a dataframe of the scraped data.\n",
    "Note: All of the above steps have to be done in code. No step is to be done manually."
   ]
  },
  {
   "cell_type": "code",
   "execution_count": 1,
   "id": "cba94dd6",
   "metadata": {},
   "outputs": [],
   "source": [
    "import selenium as sm\n",
    "import pandas as pd\n",
    "from selenium import webdriver\n",
    "import warnings\n",
    "warnings.filterwarnings(\"ignore\")\n",
    "from selenium.common.exceptions import StaleElementReferenceException, NoSuchElementException\n",
    "from selenium.webdriver.common.by import By\n",
    "import time"
   ]
  },
  {
   "cell_type": "code",
   "execution_count": 2,
   "id": "41ae29c5",
   "metadata": {},
   "outputs": [],
   "source": [
    "# Now connection to the driver which is available in this folder of my laptop\n",
    "driver = webdriver.Chrome(r\"D:\\Uday Shankar's Data\\Softwares\\chromedriver_win32\\chromedriver.exe\")"
   ]
  },
  {
   "cell_type": "code",
   "execution_count": 3,
   "id": "26431ba6",
   "metadata": {},
   "outputs": [],
   "source": [
    "# Now opening the naukri.com website in a new window\n",
    "driver.get(\"https://www.naukri.com/\")"
   ]
  },
  {
   "cell_type": "code",
   "execution_count": 8,
   "id": "77394ef6",
   "metadata": {},
   "outputs": [],
   "source": [
    "designation_first = driver.find_element(By.CLASS_NAME, \"suggestor-input \")\n",
    "designation_first.send_keys(\"Data Scientist\")"
   ]
  },
  {
   "cell_type": "code",
   "execution_count": 9,
   "id": "003fe6a7",
   "metadata": {},
   "outputs": [],
   "source": [
    "location = driver.find_element(By.XPATH, \"/html/body/div[1]/div[6]/div/div/div[5]/div/div/div/input\")\n",
    "location.send_keys(\"Bangalore\")"
   ]
  },
  {
   "cell_type": "code",
   "execution_count": 10,
   "id": "0e3fad54",
   "metadata": {},
   "outputs": [],
   "source": [
    "search = driver.find_element(By.CLASS_NAME, \"qsbSubmit\")\n",
    "search.click()\n",
    "time.sleep(4)"
   ]
  },
  {
   "cell_type": "code",
   "execution_count": 11,
   "id": "b0714278",
   "metadata": {},
   "outputs": [],
   "source": [
    "start = 0\n",
    "end = 10\n",
    "job_titles = []\n",
    "job_locations = []\n",
    "company_name = []"
   ]
  },
  {
   "cell_type": "code",
   "execution_count": 12,
   "id": "d8ef796d",
   "metadata": {},
   "outputs": [
    {
     "data": {
      "text/plain": [
       "['Data Science Specialist',\n",
       " 'Analystics & Modeling Specialist',\n",
       " 'Data Scientist',\n",
       " 'Data Scientist',\n",
       " 'Expert Data Scientist',\n",
       " 'Lead Data Scientist',\n",
       " 'Senior Manager-Data Science',\n",
       " 'Senior Director/Head - Data Science & Analytics',\n",
       " 'Data Scientist Staff',\n",
       " 'Senior Data Science and Analytics Strategy Consultant']"
      ]
     },
     "execution_count": 12,
     "metadata": {},
     "output_type": "execute_result"
    }
   ],
   "source": [
    "title = driver.find_elements(By.XPATH, \"//a[@class='title ellipsis']\")\n",
    "\n",
    "for i in title[start:end]:\n",
    "    job_titles.append(i.text)\n",
    "    \n",
    "job_titles  "
   ]
  },
  {
   "cell_type": "code",
   "execution_count": 13,
   "id": "686ead29",
   "metadata": {},
   "outputs": [
    {
     "data": {
      "text/plain": [
       "['Bangalore/Bengaluru, Kolkata, Mumbai, Hyderabad/Secunderabad, Pune, Chennai',\n",
       " 'Bangalore/Bengaluru, Kolkata, Mumbai, Hyderabad/Secunderabad, Pune, Chennai',\n",
       " 'Hybrid - Bangalore/Bengaluru, Kolkata, Hyderabad/Secunderabad, Pune, Chennai, Delhi / NCR, Mumbai (All Areas)',\n",
       " 'Bangalore/Bengaluru, Noida, Kolkata, Mumbai, Hyderabad/Secunderabad, Pune, Chennai, Gurgaon/Gurugram',\n",
       " 'Bangalore/Bengaluru, Mumbai',\n",
       " 'Bangalore/Bengaluru, Noida, Hyderabad/Secunderabad, Pune, Chennai, Mumbai (All Areas)',\n",
       " 'Bangalore/Bengaluru',\n",
       " 'Bangalore/Bengaluru, Pune, Chennai',\n",
       " 'Bangalore/Bengaluru',\n",
       " 'Bangalore/Bengaluru']"
      ]
     },
     "execution_count": 13,
     "metadata": {},
     "output_type": "execute_result"
    }
   ],
   "source": [
    "location = driver.find_elements(By.XPATH, \"//span[@class='ellipsis fleft locWdth']\")\n",
    "\n",
    "for i in location[start:end]:\n",
    "    job_locations.append(i.text)\n",
    "    \n",
    "job_locations "
   ]
  },
  {
   "cell_type": "code",
   "execution_count": 14,
   "id": "1905b517",
   "metadata": {},
   "outputs": [
    {
     "data": {
      "text/plain": [
       "['Accenture',\n",
       " 'Accenture',\n",
       " 'Cognizant',\n",
       " 'Capgemini',\n",
       " 'UPL Limited',\n",
       " 'Birlasoft',\n",
       " 'AMERICAN EXPRESS',\n",
       " 'Vertex Corporate',\n",
       " 'Juniper Networks',\n",
       " 'Wells Fargo']"
      ]
     },
     "execution_count": 14,
     "metadata": {},
     "output_type": "execute_result"
    }
   ],
   "source": [
    "company = driver.find_elements(By.XPATH, \"//a[@class='subTitle ellipsis fleft']\")\n",
    "\n",
    "for i in company[start:end]:\n",
    "    company_name.append(i.text)\n",
    "    \n",
    "company_name  "
   ]
  },
  {
   "cell_type": "code",
   "execution_count": 15,
   "id": "5c4e0b91",
   "metadata": {},
   "outputs": [
    {
     "data": {
      "text/html": [
       "<div>\n",
       "<style scoped>\n",
       "    .dataframe tbody tr th:only-of-type {\n",
       "        vertical-align: middle;\n",
       "    }\n",
       "\n",
       "    .dataframe tbody tr th {\n",
       "        vertical-align: top;\n",
       "    }\n",
       "\n",
       "    .dataframe thead th {\n",
       "        text-align: right;\n",
       "    }\n",
       "</style>\n",
       "<table border=\"1\" class=\"dataframe\">\n",
       "  <thead>\n",
       "    <tr style=\"text-align: right;\">\n",
       "      <th></th>\n",
       "      <th>Job Title</th>\n",
       "      <th>Job Location</th>\n",
       "      <th>Company Name</th>\n",
       "    </tr>\n",
       "  </thead>\n",
       "  <tbody>\n",
       "    <tr>\n",
       "      <th>0</th>\n",
       "      <td>Data Science Specialist</td>\n",
       "      <td>Bangalore/Bengaluru, Kolkata, Mumbai, Hyderaba...</td>\n",
       "      <td>Accenture</td>\n",
       "    </tr>\n",
       "    <tr>\n",
       "      <th>1</th>\n",
       "      <td>Analystics &amp; Modeling Specialist</td>\n",
       "      <td>Bangalore/Bengaluru, Kolkata, Mumbai, Hyderaba...</td>\n",
       "      <td>Accenture</td>\n",
       "    </tr>\n",
       "    <tr>\n",
       "      <th>2</th>\n",
       "      <td>Data Scientist</td>\n",
       "      <td>Hybrid - Bangalore/Bengaluru, Kolkata, Hyderab...</td>\n",
       "      <td>Cognizant</td>\n",
       "    </tr>\n",
       "    <tr>\n",
       "      <th>3</th>\n",
       "      <td>Data Scientist</td>\n",
       "      <td>Bangalore/Bengaluru, Noida, Kolkata, Mumbai, H...</td>\n",
       "      <td>Capgemini</td>\n",
       "    </tr>\n",
       "    <tr>\n",
       "      <th>4</th>\n",
       "      <td>Expert Data Scientist</td>\n",
       "      <td>Bangalore/Bengaluru, Mumbai</td>\n",
       "      <td>UPL Limited</td>\n",
       "    </tr>\n",
       "    <tr>\n",
       "      <th>5</th>\n",
       "      <td>Lead Data Scientist</td>\n",
       "      <td>Bangalore/Bengaluru, Noida, Hyderabad/Secunder...</td>\n",
       "      <td>Birlasoft</td>\n",
       "    </tr>\n",
       "    <tr>\n",
       "      <th>6</th>\n",
       "      <td>Senior Manager-Data Science</td>\n",
       "      <td>Bangalore/Bengaluru</td>\n",
       "      <td>AMERICAN EXPRESS</td>\n",
       "    </tr>\n",
       "    <tr>\n",
       "      <th>7</th>\n",
       "      <td>Senior Director/Head - Data Science &amp; Analytics</td>\n",
       "      <td>Bangalore/Bengaluru, Pune, Chennai</td>\n",
       "      <td>Vertex Corporate</td>\n",
       "    </tr>\n",
       "    <tr>\n",
       "      <th>8</th>\n",
       "      <td>Data Scientist Staff</td>\n",
       "      <td>Bangalore/Bengaluru</td>\n",
       "      <td>Juniper Networks</td>\n",
       "    </tr>\n",
       "    <tr>\n",
       "      <th>9</th>\n",
       "      <td>Senior Data Science and Analytics Strategy Con...</td>\n",
       "      <td>Bangalore/Bengaluru</td>\n",
       "      <td>Wells Fargo</td>\n",
       "    </tr>\n",
       "  </tbody>\n",
       "</table>\n",
       "</div>"
      ],
      "text/plain": [
       "                                           Job Title  \\\n",
       "0                            Data Science Specialist   \n",
       "1                   Analystics & Modeling Specialist   \n",
       "2                                     Data Scientist   \n",
       "3                                     Data Scientist   \n",
       "4                              Expert Data Scientist   \n",
       "5                                Lead Data Scientist   \n",
       "6                        Senior Manager-Data Science   \n",
       "7    Senior Director/Head - Data Science & Analytics   \n",
       "8                               Data Scientist Staff   \n",
       "9  Senior Data Science and Analytics Strategy Con...   \n",
       "\n",
       "                                        Job Location      Company Name  \n",
       "0  Bangalore/Bengaluru, Kolkata, Mumbai, Hyderaba...         Accenture  \n",
       "1  Bangalore/Bengaluru, Kolkata, Mumbai, Hyderaba...         Accenture  \n",
       "2  Hybrid - Bangalore/Bengaluru, Kolkata, Hyderab...         Cognizant  \n",
       "3  Bangalore/Bengaluru, Noida, Kolkata, Mumbai, H...         Capgemini  \n",
       "4                        Bangalore/Bengaluru, Mumbai       UPL Limited  \n",
       "5  Bangalore/Bengaluru, Noida, Hyderabad/Secunder...         Birlasoft  \n",
       "6                                Bangalore/Bengaluru  AMERICAN EXPRESS  \n",
       "7                 Bangalore/Bengaluru, Pune, Chennai  Vertex Corporate  \n",
       "8                                Bangalore/Bengaluru  Juniper Networks  \n",
       "9                                Bangalore/Bengaluru       Wells Fargo  "
      ]
     },
     "execution_count": 15,
     "metadata": {},
     "output_type": "execute_result"
    }
   ],
   "source": [
    "all_data = pd.DataFrame({'Job Title':job_titles, 'Job Location':job_locations, 'Company Name':company_name})\n",
    "all_data"
   ]
  },
  {
   "cell_type": "code",
   "execution_count": null,
   "id": "e80feaea",
   "metadata": {},
   "outputs": [],
   "source": [
    "all_data.to_csv(\"data_scientist_jobs_in_bangalore.csv\", header=False, index=False)"
   ]
  }
 ],
 "metadata": {
  "kernelspec": {
   "display_name": "Python 3 (ipykernel)",
   "language": "python",
   "name": "python3"
  },
  "language_info": {
   "codemirror_mode": {
    "name": "ipython",
    "version": 3
   },
   "file_extension": ".py",
   "mimetype": "text/x-python",
   "name": "python",
   "nbconvert_exporter": "python",
   "pygments_lexer": "ipython3",
   "version": "3.9.12"
  }
 },
 "nbformat": 4,
 "nbformat_minor": 5
}
