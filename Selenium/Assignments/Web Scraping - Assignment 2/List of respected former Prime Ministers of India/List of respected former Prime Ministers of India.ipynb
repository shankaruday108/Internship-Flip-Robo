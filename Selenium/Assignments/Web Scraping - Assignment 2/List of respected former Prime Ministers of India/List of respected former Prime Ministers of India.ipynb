{
 "cells": [
  {
   "cell_type": "markdown",
   "id": "e2c3410b",
   "metadata": {},
   "source": [
    "Q9: Write a python program to display list of respected former Prime Ministers of India(i.e. Name, Born-Dead, \n",
    "Term of office, Remarks) from https://www.jagranjosh.com/.\n",
    "This task will be done in following steps:\n",
    "1. First get the webpagehttps://www.jagranjosh.com/\n",
    "2. Then You have to click on the GK option\n",
    "3. Then click on the List of all Prime Ministers of India\n",
    "4. Then scrap the mentioned data and make theDataFrame."
   ]
  },
  {
   "cell_type": "code",
   "execution_count": 7,
   "id": "2453983e",
   "metadata": {},
   "outputs": [],
   "source": [
    "import selenium as sm\n",
    "import pandas as pd\n",
    "from selenium import webdriver\n",
    "import warnings\n",
    "warnings.filterwarnings(\"ignore\")\n",
    "from selenium.common.exceptions import StaleElementReferenceException, NoSuchElementException\n",
    "from selenium.webdriver.common.by import By\n",
    "import time"
   ]
  },
  {
   "cell_type": "code",
   "execution_count": 11,
   "id": "ca93e024",
   "metadata": {},
   "outputs": [],
   "source": [
    "# Now connection to the driver which is available in this folder of my laptop\n",
    "driver = webdriver.Chrome(r\"D:\\Uday Shankar's Data\\Softwares\\chromedriver_win32\\chromedriver.exe\")"
   ]
  },
  {
   "cell_type": "code",
   "execution_count": 12,
   "id": "bb70ff85",
   "metadata": {},
   "outputs": [],
   "source": [
    "# Now opening the naukri.com website in a new window\n",
    "driver.get(\"https://www.jagranjosh.com/\")\n",
    "driver.fullscreen_window()\n",
    "time.sleep(3)"
   ]
  },
  {
   "cell_type": "code",
   "execution_count": 13,
   "id": "39c6ee6e",
   "metadata": {},
   "outputs": [],
   "source": [
    "gk_search = driver.find_element(By.XPATH, \"/html/body/div/div[1]/div/div[1]/div/div[6]/div/div[1]/header/div[3]/ul/li[9]/a\")\n",
    "gk_search.click()\n",
    "time.sleep(3)"
   ]
  },
  {
   "cell_type": "code",
   "execution_count": 17,
   "id": "c0fb7038",
   "metadata": {},
   "outputs": [],
   "source": [
    "pm_search = driver.find_element(By.XPATH, \"/html/body/div[1]/div/div/div[2]/div/div[14]/div/div/ul/li[3]/a\")\n",
    "pm_search.click()\n",
    "time.sleep(3)"
   ]
  },
  {
   "cell_type": "code",
   "execution_count": 24,
   "id": "0f1e62d4",
   "metadata": {},
   "outputs": [],
   "source": [
    "pm_name = driver.find_element(By.XPATH, \"/html/body/div[1]/div[2]/div/div[2]/div/div[1]/div/div/div/div[4]/span/div[2]/table/tbody/tr[6]/td[2]/p/strong/a\")"
   ]
  },
  {
   "cell_type": "code",
   "execution_count": 27,
   "id": "871f7a49",
   "metadata": {},
   "outputs": [],
   "source": [
    "start = 0\n",
    "end = 10\n",
    "names = []\n",
    "born_deads = []\n",
    "term_of_offices = []\n",
    "remarks = []"
   ]
  },
  {
   "cell_type": "code",
   "execution_count": null,
   "id": "4b1a6115",
   "metadata": {},
   "outputs": [],
   "source": [
    "# No class name only a tag"
   ]
  },
  {
   "cell_type": "code",
   "execution_count": null,
   "id": "9eeee4c5",
   "metadata": {},
   "outputs": [],
   "source": []
  },
  {
   "cell_type": "code",
   "execution_count": null,
   "id": "09e00ec1",
   "metadata": {},
   "outputs": [],
   "source": []
  }
 ],
 "metadata": {
  "kernelspec": {
   "display_name": "Python 3 (ipykernel)",
   "language": "python",
   "name": "python3"
  },
  "language_info": {
   "codemirror_mode": {
    "name": "ipython",
    "version": 3
   },
   "file_extension": ".py",
   "mimetype": "text/x-python",
   "name": "python",
   "nbconvert_exporter": "python",
   "pygments_lexer": "ipython3",
   "version": "3.9.12"
  }
 },
 "nbformat": 4,
 "nbformat_minor": 5
}
