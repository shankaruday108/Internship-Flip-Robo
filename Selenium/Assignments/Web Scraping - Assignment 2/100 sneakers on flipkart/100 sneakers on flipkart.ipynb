{
 "cells": [
  {
   "cell_type": "markdown",
   "id": "a29d18c8",
   "metadata": {},
   "source": [
    "Q6: Scrape data for first 100 sneakers you find when you visit flipkart.com and search for “sneakers” in the \n",
    "search field.\n",
    "You have to scrape 3 attributes of each sneaker:\n",
    "1. Brand\n",
    "2. ProductDescription\n",
    "3. Price\n",
    "As shown in the below image, you have to scrape the above attributes."
   ]
  },
  {
   "cell_type": "code",
   "execution_count": 1,
   "id": "dc99b4a0",
   "metadata": {},
   "outputs": [],
   "source": [
    "import selenium as sm\n",
    "import pandas as pd\n",
    "from selenium import webdriver\n",
    "import warnings\n",
    "warnings.filterwarnings(\"ignore\")\n",
    "from selenium.common.exceptions import StaleElementReferenceException, NoSuchElementException\n",
    "from selenium.webdriver.common.by import By\n",
    "import time"
   ]
  },
  {
   "cell_type": "code",
   "execution_count": 2,
   "id": "6d61d238",
   "metadata": {},
   "outputs": [],
   "source": [
    "# Now connection to the driver which is available in this folder of my laptop\n",
    "driver = webdriver.Chrome(r\"D:\\Uday Shankar's Data\\Softwares\\chromedriver_win32\\chromedriver.exe\")\n",
    "time.sleep(3)"
   ]
  },
  {
   "cell_type": "code",
   "execution_count": 3,
   "id": "9190f15f",
   "metadata": {},
   "outputs": [],
   "source": [
    "# Now opening the naukri.com website in a new window\n",
    "driver.get(\"https://www.flipkart.com/\")\n",
    "# driver.fullscreen_window()\n",
    "time.sleep(3)"
   ]
  },
  {
   "cell_type": "code",
   "execution_count": 4,
   "id": "8272f3e5",
   "metadata": {},
   "outputs": [],
   "source": [
    "writing_search = driver.find_element(By.CLASS_NAME, \"_3704LK\")\n",
    "writing_search.send_keys(\"sneakers\")\n",
    "time.sleep(2)"
   ]
  },
  {
   "cell_type": "code",
   "execution_count": 5,
   "id": "1acf0f95",
   "metadata": {},
   "outputs": [],
   "source": [
    "remove_login_popup = driver.find_element(By.XPATH, \"/html/body/div[2]/div/div/button\")\n",
    "remove_login_popup.click()\n",
    "time.sleep(3)"
   ]
  },
  {
   "cell_type": "code",
   "execution_count": 6,
   "id": "ba47a1d7",
   "metadata": {},
   "outputs": [],
   "source": [
    "search = driver.find_element(By.CLASS_NAME, \"L0Z3Pu\")\n",
    "search.click()\n",
    "time.sleep(3)"
   ]
  },
  {
   "cell_type": "code",
   "execution_count": 8,
   "id": "405463dc",
   "metadata": {},
   "outputs": [],
   "source": [
    "button_start = 0\n",
    "button_end   = 20\n",
    "all_brands = []\n",
    "all_descriptions = []\n",
    "all_prices = []\n",
    "\n",
    "brand= \"\"\n",
    "desc= \"\"\n",
    "pri= \"\"\n",
    "\n",
    "time.sleep(5)\n",
    "\n",
    "for getdata in range(button_start,button_end):\n",
    "    brand  = driver.find_elements(By.XPATH, \"//div[@class='_2WkVRV']\")\n",
    "    time.sleep(3)\n",
    "    desc  = driver.find_elements(By.XPATH, \"//a[@class='IRpwTa']\")\n",
    "    time.sleep(3)\n",
    "    pri  = driver.find_elements(By.XPATH, \"//div[@class='_30jeq3']\")\n",
    "    time.sleep(3)\n",
    "    \n",
    "    if len(brand) > 0:\n",
    "     \n",
    "        for a  in brand:\n",
    "            all_brands.append(a.text)\n",
    "\n",
    "        for b  in desc:\n",
    "            all_descriptions.append(b.text)\n",
    "\n",
    "        for c  in pri:\n",
    "            all_prices.append(c.text)\n",
    "\n",
    "        time.sleep(2)\n",
    "\n",
    "        if len(brand) < 100 and len(all_descriptions) < 100 and len(all_prices) < 100:\n",
    "            # button_end += 1\n",
    "            next_btn = driver.find_element(By.XPATH, \"//span[normalize-space()='Next']\")\n",
    "            next_btn.click()\n",
    "            time.sleep(5)\n",
    "        else:\n",
    "            break\n",
    "    else:\n",
    "        break\n",
    "        \n",
    "time.sleep(3)        \n",
    "        "
   ]
  },
  {
   "cell_type": "code",
   "execution_count": 9,
   "id": "d1e96d67",
   "metadata": {},
   "outputs": [
    {
     "data": {
      "text/plain": [
       "120"
      ]
     },
     "execution_count": 9,
     "metadata": {},
     "output_type": "execute_result"
    }
   ],
   "source": [
    "len(all_brands)"
   ]
  },
  {
   "cell_type": "code",
   "execution_count": 10,
   "id": "d09a6a0b",
   "metadata": {},
   "outputs": [
    {
     "data": {
      "text/plain": [
       "116"
      ]
     },
     "execution_count": 10,
     "metadata": {},
     "output_type": "execute_result"
    }
   ],
   "source": [
    "len(all_descriptions)"
   ]
  },
  {
   "cell_type": "code",
   "execution_count": 11,
   "id": "676ec8bd",
   "metadata": {},
   "outputs": [
    {
     "data": {
      "text/plain": [
       "120"
      ]
     },
     "execution_count": 11,
     "metadata": {},
     "output_type": "execute_result"
    }
   ],
   "source": [
    "len(all_prices)"
   ]
  },
  {
   "cell_type": "code",
   "execution_count": 12,
   "id": "6a85c364",
   "metadata": {},
   "outputs": [
    {
     "data": {
      "text/html": [
       "<div>\n",
       "<style scoped>\n",
       "    .dataframe tbody tr th:only-of-type {\n",
       "        vertical-align: middle;\n",
       "    }\n",
       "\n",
       "    .dataframe tbody tr th {\n",
       "        vertical-align: top;\n",
       "    }\n",
       "\n",
       "    .dataframe thead th {\n",
       "        text-align: right;\n",
       "    }\n",
       "</style>\n",
       "<table border=\"1\" class=\"dataframe\">\n",
       "  <thead>\n",
       "    <tr style=\"text-align: right;\">\n",
       "      <th></th>\n",
       "      <th>Brand</th>\n",
       "      <th>Product Description</th>\n",
       "      <th>Price</th>\n",
       "    </tr>\n",
       "  </thead>\n",
       "  <tbody>\n",
       "    <tr>\n",
       "      <th>0</th>\n",
       "      <td>BRUTON</td>\n",
       "      <td>2 Combo Sneaker Shoes Sneakers For Men</td>\n",
       "      <td>₹499</td>\n",
       "    </tr>\n",
       "    <tr>\n",
       "      <th>1</th>\n",
       "      <td>BRUTON</td>\n",
       "      <td>2 Combo Sneaker Shoes Sneakers For Men</td>\n",
       "      <td>₹499</td>\n",
       "    </tr>\n",
       "    <tr>\n",
       "      <th>2</th>\n",
       "      <td>SFR</td>\n",
       "      <td>Sneakers For Men</td>\n",
       "      <td>₹289</td>\n",
       "    </tr>\n",
       "    <tr>\n",
       "      <th>3</th>\n",
       "      <td>BIRDE</td>\n",
       "      <td>Combo Pack of 2 Casual Shoes Sneakers For Men</td>\n",
       "      <td>₹499</td>\n",
       "    </tr>\n",
       "    <tr>\n",
       "      <th>4</th>\n",
       "      <td>SFR</td>\n",
       "      <td>Sneakers For Men</td>\n",
       "      <td>₹239</td>\n",
       "    </tr>\n",
       "    <tr>\n",
       "      <th>...</th>\n",
       "      <td>...</td>\n",
       "      <td>...</td>\n",
       "      <td>...</td>\n",
       "    </tr>\n",
       "    <tr>\n",
       "      <th>95</th>\n",
       "      <td>NEW LIMITS</td>\n",
       "      <td>Sneakers For Men</td>\n",
       "      <td>₹1,079</td>\n",
       "    </tr>\n",
       "    <tr>\n",
       "      <th>96</th>\n",
       "      <td>PUMA</td>\n",
       "      <td>Men SM-406 Black Sneakers For Men</td>\n",
       "      <td>₹1,709</td>\n",
       "    </tr>\n",
       "    <tr>\n",
       "      <th>97</th>\n",
       "      <td>K- FOOTLANCE</td>\n",
       "      <td>MADRYN 2.O Sneakers For Men</td>\n",
       "      <td>₹439</td>\n",
       "    </tr>\n",
       "    <tr>\n",
       "      <th>98</th>\n",
       "      <td>Sparx</td>\n",
       "      <td>Men's White Sneakers Sneakers For Men</td>\n",
       "      <td>₹769</td>\n",
       "    </tr>\n",
       "    <tr>\n",
       "      <th>99</th>\n",
       "      <td>U.S. POLO ASSN.</td>\n",
       "      <td>Platform Chunky Trainer/Sneakers -BOOM Mid Top...</td>\n",
       "      <td>₹2,379</td>\n",
       "    </tr>\n",
       "  </tbody>\n",
       "</table>\n",
       "<p>100 rows × 3 columns</p>\n",
       "</div>"
      ],
      "text/plain": [
       "              Brand                                Product Description   Price\n",
       "0            BRUTON             2 Combo Sneaker Shoes Sneakers For Men    ₹499\n",
       "1            BRUTON             2 Combo Sneaker Shoes Sneakers For Men    ₹499\n",
       "2               SFR                                   Sneakers For Men    ₹289\n",
       "3             BIRDE      Combo Pack of 2 Casual Shoes Sneakers For Men    ₹499\n",
       "4               SFR                                   Sneakers For Men    ₹239\n",
       "..              ...                                                ...     ...\n",
       "95       NEW LIMITS                                   Sneakers For Men  ₹1,079\n",
       "96             PUMA                  Men SM-406 Black Sneakers For Men  ₹1,709\n",
       "97     K- FOOTLANCE                        MADRYN 2.O Sneakers For Men    ₹439\n",
       "98            Sparx              Men's White Sneakers Sneakers For Men    ₹769\n",
       "99  U.S. POLO ASSN.  Platform Chunky Trainer/Sneakers -BOOM Mid Top...  ₹2,379\n",
       "\n",
       "[100 rows x 3 columns]"
      ]
     },
     "execution_count": 12,
     "metadata": {},
     "output_type": "execute_result"
    }
   ],
   "source": [
    "all_data = pd.DataFrame({'Brand':all_brands[:100], 'Product Description':all_descriptions[:100], 'Price':all_prices[:100]})\n",
    "all_data"
   ]
  },
  {
   "cell_type": "code",
   "execution_count": 13,
   "id": "7e7bfddf",
   "metadata": {},
   "outputs": [],
   "source": [
    "all_data.to_csv(\"_100_sneakers.csv\", header=False, index=False)"
   ]
  },
  {
   "cell_type": "code",
   "execution_count": null,
   "id": "5a3e7170",
   "metadata": {},
   "outputs": [],
   "source": []
  },
  {
   "cell_type": "code",
   "execution_count": null,
   "id": "42fcdb64",
   "metadata": {},
   "outputs": [],
   "source": []
  }
 ],
 "metadata": {
  "kernelspec": {
   "display_name": "Python 3 (ipykernel)",
   "language": "python",
   "name": "python3"
  },
  "language_info": {
   "codemirror_mode": {
    "name": "ipython",
    "version": 3
   },
   "file_extension": ".py",
   "mimetype": "text/x-python",
   "name": "python",
   "nbconvert_exporter": "python",
   "pygments_lexer": "ipython3",
   "version": "3.9.12"
  }
 },
 "nbformat": 4,
 "nbformat_minor": 5
}
