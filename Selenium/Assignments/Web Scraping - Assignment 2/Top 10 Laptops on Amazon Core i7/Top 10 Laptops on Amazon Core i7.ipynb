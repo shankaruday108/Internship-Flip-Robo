{
 "cells": [
  {
   "cell_type": "markdown",
   "id": "a29d18c8",
   "metadata": {},
   "source": [
    "Q7: Go to webpage https://www.amazon.in/ Enter “Laptop” in the search field and then click the search icon. Then \n",
    "set CPU Type filter to “Intel Core i7” as shown in the below image:\n",
    "After setting the filters scrape first 10 laptops data. You have to scrape 3 attributes for each laptop:\n",
    "1. Title\n",
    "2. Ratings\n",
    "3. Price"
   ]
  },
  {
   "cell_type": "code",
   "execution_count": 1,
   "id": "dc99b4a0",
   "metadata": {},
   "outputs": [],
   "source": [
    "import selenium as sm\n",
    "import pandas as pd\n",
    "from selenium import webdriver\n",
    "import warnings\n",
    "warnings.filterwarnings(\"ignore\")\n",
    "from selenium.common.exceptions import StaleElementReferenceException, NoSuchElementException\n",
    "from selenium.webdriver.common.by import By\n",
    "import time"
   ]
  },
  {
   "cell_type": "code",
   "execution_count": 2,
   "id": "6d61d238",
   "metadata": {},
   "outputs": [],
   "source": [
    "# Now connection to the driver which is available in this folder of my laptop\n",
    "driver = webdriver.Chrome(r\"D:\\Uday Shankar's Data\\Softwares\\chromedriver_win32\\chromedriver.exe\")\n",
    "time.sleep(3)"
   ]
  },
  {
   "cell_type": "code",
   "execution_count": 3,
   "id": "9190f15f",
   "metadata": {},
   "outputs": [],
   "source": [
    "# Now opening the given website in a new window\n",
    "driver.get(\"https://www.amazon.in/\")\n",
    "# driver.fullscreen_window()\n",
    "time.sleep(3)"
   ]
  },
  {
   "cell_type": "code",
   "execution_count": 4,
   "id": "8272f3e5",
   "metadata": {},
   "outputs": [],
   "source": [
    "writing_search = driver.find_element(By.XPATH, \"/html/body/div[1]/header/div/div[1]/div[2]/div/form/div[2]/div[1]/input\")\n",
    "writing_search.send_keys(\"Laptop\")\n",
    "time.sleep(2)"
   ]
  },
  {
   "cell_type": "code",
   "execution_count": 5,
   "id": "1acf0f95",
   "metadata": {},
   "outputs": [],
   "source": [
    "search = driver.find_element(By.XPATH, \"/html/body/div[1]/header/div/div[1]/div[2]/div/form/div[3]/div/span/input\")\n",
    "search.click()\n",
    "time.sleep(3)"
   ]
  },
  {
   "cell_type": "code",
   "execution_count": 6,
   "id": "ba47a1d7",
   "metadata": {},
   "outputs": [],
   "source": [
    "search_i7 = driver.find_element(By.XPATH, \"//span[normalize-space()='Intel Core i7']\")\n",
    "search_i7.click()\n",
    "time.sleep(3)"
   ]
  },
  {
   "cell_type": "code",
   "execution_count": 7,
   "id": "2ce0a0da",
   "metadata": {},
   "outputs": [],
   "source": [
    "pri_sign  = driver.find_element(By.XPATH, \"//span[@class='a-price-symbol']\")\n",
    "pri_sign = pri_sign.text"
   ]
  },
  {
   "cell_type": "code",
   "execution_count": 8,
   "id": "405463dc",
   "metadata": {},
   "outputs": [],
   "source": [
    "button_start = 0\n",
    "button_end   = 20\n",
    "all_titles = []\n",
    "all_ratings = []\n",
    "all_prices = []\n",
    "\n",
    "title= \"\"\n",
    "rating= \"\"\n",
    "pri= \"\"\n",
    "\n",
    "time.sleep(5)\n",
    "\n",
    "for getdata in range(button_start,button_end):\n",
    "    title  = driver.find_elements(By.XPATH, \"//span[@class='a-size-medium a-color-base a-text-normal']\")\n",
    "    time.sleep(3)\n",
    "    rating  = driver.find_elements(By.XPATH, \"//span[@class='a-icon-alt']\")\n",
    "    time.sleep(3)\n",
    "    pri  = driver.find_elements(By.XPATH, \"//span[@class='a-price-whole']\")\n",
    "    time.sleep(3)\n",
    "    \n",
    "    if len(title) > 0:\n",
    "     \n",
    "        for a  in title:\n",
    "            all_titles.append(a.text)\n",
    "\n",
    "        for b  in rating:\n",
    "            all_ratings.append(b.text)\n",
    "\n",
    "        for c  in pri:\n",
    "            all_prices.append(pri_sign+c.text)\n",
    "\n",
    "        time.sleep(2)\n",
    "\n",
    "        if len(all_titles) < 10 and len(all_ratings) < 10 and len(all_prices) < 10:\n",
    "            # button_end += 1\n",
    "            next_btn = driver.find_element(By.XPATH, \"//a[@class='s-pagination-item s-pagination-next s-pagination-button s-pagination-separator']\")\n",
    "            next_btn.click()\n",
    "            time.sleep(5)\n",
    "        else:\n",
    "            break\n",
    "    else:\n",
    "        break\n",
    "        \n",
    "time.sleep(3)        \n",
    "        "
   ]
  },
  {
   "cell_type": "code",
   "execution_count": null,
   "id": "9cdf1964",
   "metadata": {},
   "outputs": [],
   "source": []
  },
  {
   "cell_type": "code",
   "execution_count": 9,
   "id": "d1e96d67",
   "metadata": {},
   "outputs": [
    {
     "data": {
      "text/plain": [
       "24"
      ]
     },
     "execution_count": 9,
     "metadata": {},
     "output_type": "execute_result"
    }
   ],
   "source": [
    "len(all_titles)"
   ]
  },
  {
   "cell_type": "code",
   "execution_count": 10,
   "id": "d09a6a0b",
   "metadata": {},
   "outputs": [
    {
     "data": {
      "text/plain": [
       "28"
      ]
     },
     "execution_count": 10,
     "metadata": {},
     "output_type": "execute_result"
    }
   ],
   "source": [
    "len(all_ratings)"
   ]
  },
  {
   "cell_type": "code",
   "execution_count": 11,
   "id": "676ec8bd",
   "metadata": {},
   "outputs": [
    {
     "data": {
      "text/plain": [
       "24"
      ]
     },
     "execution_count": 11,
     "metadata": {},
     "output_type": "execute_result"
    }
   ],
   "source": [
    "len(all_prices)"
   ]
  },
  {
   "cell_type": "code",
   "execution_count": 12,
   "id": "6a85c364",
   "metadata": {},
   "outputs": [
    {
     "data": {
      "text/html": [
       "<div>\n",
       "<style scoped>\n",
       "    .dataframe tbody tr th:only-of-type {\n",
       "        vertical-align: middle;\n",
       "    }\n",
       "\n",
       "    .dataframe tbody tr th {\n",
       "        vertical-align: top;\n",
       "    }\n",
       "\n",
       "    .dataframe thead th {\n",
       "        text-align: right;\n",
       "    }\n",
       "</style>\n",
       "<table border=\"1\" class=\"dataframe\">\n",
       "  <thead>\n",
       "    <tr style=\"text-align: right;\">\n",
       "      <th></th>\n",
       "      <th>Title</th>\n",
       "      <th>Ratings</th>\n",
       "      <th>Price</th>\n",
       "    </tr>\n",
       "  </thead>\n",
       "  <tbody>\n",
       "    <tr>\n",
       "      <th>0</th>\n",
       "      <td>ASUS Vivobook 14, Intel Core i7-1165G7 11th Ge...</td>\n",
       "      <td></td>\n",
       "      <td>₹56,990</td>\n",
       "    </tr>\n",
       "    <tr>\n",
       "      <th>1</th>\n",
       "      <td>HP Victus Gaming Latest 12th Gen Intel Core i7...</td>\n",
       "      <td></td>\n",
       "      <td>₹85,990</td>\n",
       "    </tr>\n",
       "    <tr>\n",
       "      <th>2</th>\n",
       "      <td>Lenovo IdeaPad Slim 5 12th Gen Intel Core i7 1...</td>\n",
       "      <td></td>\n",
       "      <td>₹82,990</td>\n",
       "    </tr>\n",
       "    <tr>\n",
       "      <th>3</th>\n",
       "      <td>HP Pavilion Plus, 12th Gen Intel Core i7 16GB ...</td>\n",
       "      <td></td>\n",
       "      <td>₹95,990</td>\n",
       "    </tr>\n",
       "    <tr>\n",
       "      <th>4</th>\n",
       "      <td>Dell Inspiron 5320 Laptop, Intel i7-1260P, 16G...</td>\n",
       "      <td></td>\n",
       "      <td>₹84,918</td>\n",
       "    </tr>\n",
       "    <tr>\n",
       "      <th>5</th>\n",
       "      <td>Hp Pavilion 15 12Th Gen Intel Core I7 16Gb Sdr...</td>\n",
       "      <td></td>\n",
       "      <td>₹88,900</td>\n",
       "    </tr>\n",
       "    <tr>\n",
       "      <th>6</th>\n",
       "      <td>Acer Nitro 5 Gaming Laptop Intel core i7 11th ...</td>\n",
       "      <td></td>\n",
       "      <td>₹82,990</td>\n",
       "    </tr>\n",
       "    <tr>\n",
       "      <th>7</th>\n",
       "      <td>MSI GF75 Thin Gaming, Intel Core i7-10750H, 44...</td>\n",
       "      <td></td>\n",
       "      <td>₹62,990</td>\n",
       "    </tr>\n",
       "    <tr>\n",
       "      <th>8</th>\n",
       "      <td>Samsung Galaxy Book2 (NP750) Intel 12th Gen co...</td>\n",
       "      <td></td>\n",
       "      <td>₹77,990</td>\n",
       "    </tr>\n",
       "    <tr>\n",
       "      <th>9</th>\n",
       "      <td>ASUS TUF Dash F15 (2022), 15.6-inch (39.62 cms...</td>\n",
       "      <td></td>\n",
       "      <td>₹1,49,610</td>\n",
       "    </tr>\n",
       "  </tbody>\n",
       "</table>\n",
       "</div>"
      ],
      "text/plain": [
       "                                               Title Ratings      Price\n",
       "0  ASUS Vivobook 14, Intel Core i7-1165G7 11th Ge...            ₹56,990\n",
       "1  HP Victus Gaming Latest 12th Gen Intel Core i7...            ₹85,990\n",
       "2  Lenovo IdeaPad Slim 5 12th Gen Intel Core i7 1...            ₹82,990\n",
       "3  HP Pavilion Plus, 12th Gen Intel Core i7 16GB ...            ₹95,990\n",
       "4  Dell Inspiron 5320 Laptop, Intel i7-1260P, 16G...            ₹84,918\n",
       "5  Hp Pavilion 15 12Th Gen Intel Core I7 16Gb Sdr...            ₹88,900\n",
       "6  Acer Nitro 5 Gaming Laptop Intel core i7 11th ...            ₹82,990\n",
       "7  MSI GF75 Thin Gaming, Intel Core i7-10750H, 44...            ₹62,990\n",
       "8  Samsung Galaxy Book2 (NP750) Intel 12th Gen co...            ₹77,990\n",
       "9  ASUS TUF Dash F15 (2022), 15.6-inch (39.62 cms...          ₹1,49,610"
      ]
     },
     "execution_count": 12,
     "metadata": {},
     "output_type": "execute_result"
    }
   ],
   "source": [
    "all_data = pd.DataFrame({'Title':all_titles[:10], 'Ratings':all_ratings[:10], 'Price':all_prices[:10]})\n",
    "all_data"
   ]
  },
  {
   "cell_type": "code",
   "execution_count": 13,
   "id": "7e7bfddf",
   "metadata": {},
   "outputs": [],
   "source": [
    "all_data.to_csv(\"top_10_first_laptops_i7_amazon.csv\", header=False, index=False)"
   ]
  },
  {
   "cell_type": "code",
   "execution_count": null,
   "id": "5a3e7170",
   "metadata": {},
   "outputs": [],
   "source": []
  },
  {
   "cell_type": "code",
   "execution_count": null,
   "id": "42fcdb64",
   "metadata": {},
   "outputs": [],
   "source": []
  }
 ],
 "metadata": {
  "kernelspec": {
   "display_name": "Python 3 (ipykernel)",
   "language": "python",
   "name": "python3"
  },
  "language_info": {
   "codemirror_mode": {
    "name": "ipython",
    "version": 3
   },
   "file_extension": ".py",
   "mimetype": "text/x-python",
   "name": "python",
   "nbconvert_exporter": "python",
   "pygments_lexer": "ipython3",
   "version": "3.9.12"
  }
 },
 "nbformat": 4,
 "nbformat_minor": 5
}
